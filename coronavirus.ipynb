{
 "cells": [
  {
   "cell_type": "markdown",
   "metadata": {},
   "source": [
    "# Coronavirus World Data Analysis"
   ]
  },
  {
   "cell_type": "markdown",
   "metadata": {},
   "source": [
    "KATE expects your code to define variables with specific names that correspond to certain things we are interested in.\n",
    "\n",
    "KATE will run your notebook from top to bottom and check the latest value of those variables, so make sure you don't overwrite them.\n",
    "\n",
    "* Remember to uncomment the line assigning the variable to your answer and don't change the variable or function names.\n",
    "* Use copies of the original or previous DataFrames to make sure you do not overwrite them by mistake.\n",
    "\n",
    "You will find instructions below about how to define each variable.\n",
    "\n",
    "Once you're happy with your code, upload your notebook to KATE to check your feedback."
   ]
  },
  {
   "cell_type": "markdown",
   "metadata": {},
   "source": [
    "First of all, run the following cell to:\n",
    "\n",
    "- import `pandas` with an alias of `pd`\n",
    "- read a CSV containing the data to work with\n",
    "- convert the `date` column to the `datetime` format\n",
    "- create a DataFrame `df` containing the data for only 1st July 2020\n",
    "- take a look at the first few rows of the DataFrame\n"
   ]
  },
  {
   "cell_type": "code",
   "execution_count": 1,
   "metadata": {
    "inputHidden": false,
    "outputHidden": false
   },
   "outputs": [
    {
     "data": {
      "text/html": [
       "<div>\n",
       "<style scoped>\n",
       "    .dataframe tbody tr th:only-of-type {\n",
       "        vertical-align: middle;\n",
       "    }\n",
       "\n",
       "    .dataframe tbody tr th {\n",
       "        vertical-align: top;\n",
       "    }\n",
       "\n",
       "    .dataframe thead th {\n",
       "        text-align: right;\n",
       "    }\n",
       "</style>\n",
       "<table border=\"1\" class=\"dataframe\">\n",
       "  <thead>\n",
       "    <tr style=\"text-align: right;\">\n",
       "      <th></th>\n",
       "      <th>iso_code</th>\n",
       "      <th>continent</th>\n",
       "      <th>location</th>\n",
       "      <th>date</th>\n",
       "      <th>total_cases</th>\n",
       "      <th>new_cases</th>\n",
       "      <th>total_deaths</th>\n",
       "      <th>new_deaths</th>\n",
       "      <th>total_cases_per_million</th>\n",
       "      <th>new_cases_per_million</th>\n",
       "      <th>...</th>\n",
       "      <th>aged_70_older</th>\n",
       "      <th>gdp_per_capita</th>\n",
       "      <th>extreme_poverty</th>\n",
       "      <th>cvd_death_rate</th>\n",
       "      <th>diabetes_prevalence</th>\n",
       "      <th>female_smokers</th>\n",
       "      <th>male_smokers</th>\n",
       "      <th>handwashing_facilities</th>\n",
       "      <th>hospital_beds_per_thousand</th>\n",
       "      <th>life_expectancy</th>\n",
       "    </tr>\n",
       "  </thead>\n",
       "  <tbody>\n",
       "    <tr>\n",
       "      <th>173</th>\n",
       "      <td>AFG</td>\n",
       "      <td>Asia</td>\n",
       "      <td>Afghanistan</td>\n",
       "      <td>2020-07-01</td>\n",
       "      <td>31517.0</td>\n",
       "      <td>279.0</td>\n",
       "      <td>746.0</td>\n",
       "      <td>13.0</td>\n",
       "      <td>809.616</td>\n",
       "      <td>7.167</td>\n",
       "      <td>...</td>\n",
       "      <td>1.337</td>\n",
       "      <td>1803.987</td>\n",
       "      <td>NaN</td>\n",
       "      <td>597.029</td>\n",
       "      <td>9.59</td>\n",
       "      <td>NaN</td>\n",
       "      <td>NaN</td>\n",
       "      <td>37.746</td>\n",
       "      <td>0.50</td>\n",
       "      <td>64.83</td>\n",
       "    </tr>\n",
       "    <tr>\n",
       "      <th>300</th>\n",
       "      <td>ALB</td>\n",
       "      <td>Europe</td>\n",
       "      <td>Albania</td>\n",
       "      <td>2020-07-01</td>\n",
       "      <td>2535.0</td>\n",
       "      <td>69.0</td>\n",
       "      <td>62.0</td>\n",
       "      <td>4.0</td>\n",
       "      <td>880.881</td>\n",
       "      <td>23.977</td>\n",
       "      <td>...</td>\n",
       "      <td>8.643</td>\n",
       "      <td>11803.431</td>\n",
       "      <td>1.1</td>\n",
       "      <td>304.195</td>\n",
       "      <td>10.08</td>\n",
       "      <td>7.1</td>\n",
       "      <td>51.2</td>\n",
       "      <td>NaN</td>\n",
       "      <td>2.89</td>\n",
       "      <td>78.57</td>\n",
       "    </tr>\n",
       "    <tr>\n",
       "      <th>491</th>\n",
       "      <td>DZA</td>\n",
       "      <td>Africa</td>\n",
       "      <td>Algeria</td>\n",
       "      <td>2020-07-01</td>\n",
       "      <td>13907.0</td>\n",
       "      <td>336.0</td>\n",
       "      <td>912.0</td>\n",
       "      <td>7.0</td>\n",
       "      <td>317.142</td>\n",
       "      <td>7.662</td>\n",
       "      <td>...</td>\n",
       "      <td>3.857</td>\n",
       "      <td>13913.839</td>\n",
       "      <td>0.5</td>\n",
       "      <td>278.364</td>\n",
       "      <td>6.73</td>\n",
       "      <td>0.7</td>\n",
       "      <td>30.4</td>\n",
       "      <td>83.741</td>\n",
       "      <td>1.90</td>\n",
       "      <td>76.88</td>\n",
       "    </tr>\n",
       "    <tr>\n",
       "      <th>613</th>\n",
       "      <td>AND</td>\n",
       "      <td>Europe</td>\n",
       "      <td>Andorra</td>\n",
       "      <td>2020-07-01</td>\n",
       "      <td>855.0</td>\n",
       "      <td>0.0</td>\n",
       "      <td>52.0</td>\n",
       "      <td>0.0</td>\n",
       "      <td>11065.812</td>\n",
       "      <td>0.000</td>\n",
       "      <td>...</td>\n",
       "      <td>NaN</td>\n",
       "      <td>NaN</td>\n",
       "      <td>NaN</td>\n",
       "      <td>109.135</td>\n",
       "      <td>7.97</td>\n",
       "      <td>29.0</td>\n",
       "      <td>37.8</td>\n",
       "      <td>NaN</td>\n",
       "      <td>NaN</td>\n",
       "      <td>83.73</td>\n",
       "    </tr>\n",
       "    <tr>\n",
       "      <th>727</th>\n",
       "      <td>AGO</td>\n",
       "      <td>Africa</td>\n",
       "      <td>Angola</td>\n",
       "      <td>2020-07-01</td>\n",
       "      <td>284.0</td>\n",
       "      <td>8.0</td>\n",
       "      <td>13.0</td>\n",
       "      <td>2.0</td>\n",
       "      <td>8.641</td>\n",
       "      <td>0.243</td>\n",
       "      <td>...</td>\n",
       "      <td>1.362</td>\n",
       "      <td>5819.495</td>\n",
       "      <td>NaN</td>\n",
       "      <td>276.045</td>\n",
       "      <td>3.94</td>\n",
       "      <td>NaN</td>\n",
       "      <td>NaN</td>\n",
       "      <td>26.664</td>\n",
       "      <td>NaN</td>\n",
       "      <td>61.15</td>\n",
       "    </tr>\n",
       "  </tbody>\n",
       "</table>\n",
       "<p>5 rows × 34 columns</p>\n",
       "</div>"
      ],
      "text/plain": [
       "    iso_code continent     location       date  total_cases  new_cases  \\\n",
       "173      AFG      Asia  Afghanistan 2020-07-01      31517.0      279.0   \n",
       "300      ALB    Europe      Albania 2020-07-01       2535.0       69.0   \n",
       "491      DZA    Africa      Algeria 2020-07-01      13907.0      336.0   \n",
       "613      AND    Europe      Andorra 2020-07-01        855.0        0.0   \n",
       "727      AGO    Africa       Angola 2020-07-01        284.0        8.0   \n",
       "\n",
       "     total_deaths  new_deaths  total_cases_per_million  new_cases_per_million  \\\n",
       "173         746.0        13.0                  809.616                  7.167   \n",
       "300          62.0         4.0                  880.881                 23.977   \n",
       "491         912.0         7.0                  317.142                  7.662   \n",
       "613          52.0         0.0                11065.812                  0.000   \n",
       "727          13.0         2.0                    8.641                  0.243   \n",
       "\n",
       "     ...  aged_70_older  gdp_per_capita  extreme_poverty  cvd_death_rate  \\\n",
       "173  ...          1.337        1803.987              NaN         597.029   \n",
       "300  ...          8.643       11803.431              1.1         304.195   \n",
       "491  ...          3.857       13913.839              0.5         278.364   \n",
       "613  ...            NaN             NaN              NaN         109.135   \n",
       "727  ...          1.362        5819.495              NaN         276.045   \n",
       "\n",
       "     diabetes_prevalence  female_smokers  male_smokers  \\\n",
       "173                 9.59             NaN           NaN   \n",
       "300                10.08             7.1          51.2   \n",
       "491                 6.73             0.7          30.4   \n",
       "613                 7.97            29.0          37.8   \n",
       "727                 3.94             NaN           NaN   \n",
       "\n",
       "     handwashing_facilities hospital_beds_per_thousand  life_expectancy  \n",
       "173                  37.746                       0.50            64.83  \n",
       "300                     NaN                       2.89            78.57  \n",
       "491                  83.741                       1.90            76.88  \n",
       "613                     NaN                        NaN            83.73  \n",
       "727                  26.664                        NaN            61.15  \n",
       "\n",
       "[5 rows x 34 columns]"
      ]
     },
     "execution_count": 1,
     "metadata": {},
     "output_type": "execute_result"
    }
   ],
   "source": [
    "import pandas as pd\n",
    "\n",
    "data = pd.read_csv('data/owid-covid-data.csv')\n",
    "data['date'] = pd.to_datetime(data['date'])\n",
    "df = data[data['date'] == '2020-07-01']\n",
    "\n",
    "df.head()"
   ]
  },
  {
   "cell_type": "markdown",
   "metadata": {},
   "source": [
    "`df` now has one row of data for each country with data present for July 1st 2020. However, it also has a row with a `location` of `World` which contains aggregated values for all countries. "
   ]
  },
  {
   "cell_type": "markdown",
   "metadata": {},
   "source": [
    "**Q1. Create a new DataFrame which is the same as `df` but with the `World` row removed.**\n",
    "\n",
    "Assign this new DataFrame to the variable `countries`; do not modify `df`."
   ]
  },
  {
   "cell_type": "code",
   "execution_count": 2,
   "metadata": {},
   "outputs": [],
   "source": [
    "countries = df.copy()\n",
    "countries = countries.iloc[:-1,:]"
   ]
  },
  {
   "cell_type": "markdown",
   "metadata": {},
   "source": [
    "**Q2. Check the shape of your DataFrame to confirm that `countries` has one row fewer than `df`:**"
   ]
  },
  {
   "cell_type": "code",
   "execution_count": 3,
   "metadata": {},
   "outputs": [
    {
     "name": "stdout",
     "output_type": "stream",
     "text": [
      "(211, 34) (210, 34)\n"
     ]
    }
   ],
   "source": [
    "print(df.shape, countries.shape)"
   ]
  },
  {
   "cell_type": "code",
   "execution_count": 4,
   "metadata": {},
   "outputs": [],
   "source": [
    "cols = ['continent', 'location', 'total_deaths_per_million']"
   ]
  },
  {
   "cell_type": "markdown",
   "metadata": {},
   "source": [
    "**Q3. Define a DataFrame based on the `countries` DataFrame, but which only contains the columns in `cols` (defined above) and assign this to a variable called `countries_dr`**\n",
    "\n",
    "Order this DataFrame by `total_deaths_per_million`, with the highest numbers at the top."
   ]
  },
  {
   "cell_type": "code",
   "execution_count": 5,
   "metadata": {},
   "outputs": [
    {
     "data": {
      "text/html": [
       "<div>\n",
       "<style scoped>\n",
       "    .dataframe tbody tr th:only-of-type {\n",
       "        vertical-align: middle;\n",
       "    }\n",
       "\n",
       "    .dataframe tbody tr th {\n",
       "        vertical-align: top;\n",
       "    }\n",
       "\n",
       "    .dataframe thead th {\n",
       "        text-align: right;\n",
       "    }\n",
       "</style>\n",
       "<table border=\"1\" class=\"dataframe\">\n",
       "  <thead>\n",
       "    <tr style=\"text-align: right;\">\n",
       "      <th></th>\n",
       "      <th>continent</th>\n",
       "      <th>location</th>\n",
       "      <th>total_deaths_per_million</th>\n",
       "    </tr>\n",
       "  </thead>\n",
       "  <tbody>\n",
       "    <tr>\n",
       "      <th>23306</th>\n",
       "      <td>Europe</td>\n",
       "      <td>San Marino</td>\n",
       "      <td>1237.551</td>\n",
       "    </tr>\n",
       "    <tr>\n",
       "      <th>2917</th>\n",
       "      <td>Europe</td>\n",
       "      <td>Belgium</td>\n",
       "      <td>841.615</td>\n",
       "    </tr>\n",
       "    <tr>\n",
       "      <th>613</th>\n",
       "      <td>Europe</td>\n",
       "      <td>Andorra</td>\n",
       "      <td>673.008</td>\n",
       "    </tr>\n",
       "    <tr>\n",
       "      <th>28347</th>\n",
       "      <td>Europe</td>\n",
       "      <td>United Kingdom</td>\n",
       "      <td>644.168</td>\n",
       "    </tr>\n",
       "    <tr>\n",
       "      <th>25362</th>\n",
       "      <td>Europe</td>\n",
       "      <td>Spain</td>\n",
       "      <td>606.633</td>\n",
       "    </tr>\n",
       "    <tr>\n",
       "      <th>...</th>\n",
       "      <td>...</td>\n",
       "      <td>...</td>\n",
       "      <td>...</td>\n",
       "    </tr>\n",
       "    <tr>\n",
       "      <th>23111</th>\n",
       "      <td>North America</td>\n",
       "      <td>Saint Vincent and the Grenadines</td>\n",
       "      <td>0.000</td>\n",
       "    </tr>\n",
       "    <tr>\n",
       "      <th>23926</th>\n",
       "      <td>Africa</td>\n",
       "      <td>Seychelles</td>\n",
       "      <td>0.000</td>\n",
       "    </tr>\n",
       "    <tr>\n",
       "      <th>15734</th>\n",
       "      <td>Africa</td>\n",
       "      <td>Lesotho</td>\n",
       "      <td>0.000</td>\n",
       "    </tr>\n",
       "    <tr>\n",
       "      <th>10808</th>\n",
       "      <td>Europe</td>\n",
       "      <td>Gibraltar</td>\n",
       "      <td>0.000</td>\n",
       "    </tr>\n",
       "    <tr>\n",
       "      <th>12195</th>\n",
       "      <td>Asia</td>\n",
       "      <td>Hong Kong</td>\n",
       "      <td>NaN</td>\n",
       "    </tr>\n",
       "  </tbody>\n",
       "</table>\n",
       "<p>210 rows × 3 columns</p>\n",
       "</div>"
      ],
      "text/plain": [
       "           continent                          location  \\\n",
       "23306         Europe                        San Marino   \n",
       "2917          Europe                           Belgium   \n",
       "613           Europe                           Andorra   \n",
       "28347         Europe                    United Kingdom   \n",
       "25362         Europe                             Spain   \n",
       "...              ...                               ...   \n",
       "23111  North America  Saint Vincent and the Grenadines   \n",
       "23926         Africa                        Seychelles   \n",
       "15734         Africa                           Lesotho   \n",
       "10808         Europe                         Gibraltar   \n",
       "12195           Asia                         Hong Kong   \n",
       "\n",
       "       total_deaths_per_million  \n",
       "23306                  1237.551  \n",
       "2917                    841.615  \n",
       "613                     673.008  \n",
       "28347                   644.168  \n",
       "25362                   606.633  \n",
       "...                         ...  \n",
       "23111                     0.000  \n",
       "23926                     0.000  \n",
       "15734                     0.000  \n",
       "10808                     0.000  \n",
       "12195                       NaN  \n",
       "\n",
       "[210 rows x 3 columns]"
      ]
     },
     "execution_count": 5,
     "metadata": {},
     "output_type": "execute_result"
    }
   ],
   "source": [
    "countries_dr = countries.copy()\n",
    "countries_dr = countries_dr.drop(countries_dr.columns.difference(cols), axis=1).sort_values(by=['total_deaths_per_million'], ascending=False)\n",
    "countries_dr"
   ]
  },
  {
   "cell_type": "markdown",
   "metadata": {},
   "source": [
    "**Q4. Using the `countries` DataFrame we created earlier, find the sum of `total_tests` for countries in `Africa`, assigning the result, *as an integer*, to `africa_tests`.**"
   ]
  },
  {
   "cell_type": "code",
   "execution_count": 6,
   "metadata": {},
   "outputs": [
    {
     "data": {
      "text/plain": [
       "3445134"
      ]
     },
     "execution_count": 6,
     "metadata": {},
     "output_type": "execute_result"
    }
   ],
   "source": [
    "africa_tests = countries.copy()\n",
    "africa_tests = africa_tests[africa_tests['continent'] == 'Africa'].total_tests.sum().astype(int)\n",
    "africa_tests"
   ]
  },
  {
   "cell_type": "markdown",
   "metadata": {},
   "source": [
    "**Q5. How many countries in Africa have no value recorded for the number of `total_tests`? Assign the result to `africa_missing_test_data`.**\n",
    "\n",
    "*You may find the pandas `.isna()` method useful.*"
   ]
  },
  {
   "cell_type": "code",
   "execution_count": 7,
   "metadata": {},
   "outputs": [],
   "source": [
    "africa_missing_test_data = countries.copy()\n",
    "africa_missing_test_data = len(africa_missing_test_data[(africa_missing_test_data['continent'] == 'Africa') & (africa_missing_test_data['total_tests'].isna())].groupby('location'))"
   ]
  },
  {
   "cell_type": "code",
   "execution_count": 8,
   "metadata": {},
   "outputs": [
    {
     "data": {
      "text/plain": [
       "45"
      ]
     },
     "execution_count": 8,
     "metadata": {},
     "output_type": "execute_result"
    }
   ],
   "source": [
    "africa_missing_test_data"
   ]
  },
  {
   "cell_type": "markdown",
   "metadata": {},
   "source": [
    "**Q6. How many countries have a higher value for `total_tests` than the `United Kingdom`? Assign your answer to a variable called `countries_more_tests`.**\n",
    "\n",
    "Remember to work from the `countries` DataFrame rather than `df`. You should avoid modifying any existing DataFrames. "
   ]
  },
  {
   "cell_type": "code",
   "execution_count": 9,
   "metadata": {},
   "outputs": [
    {
     "data": {
      "text/plain": [
       "3"
      ]
     },
     "execution_count": 9,
     "metadata": {},
     "output_type": "execute_result"
    }
   ],
   "source": [
    "countries_more_tests = countries.copy()\n",
    "countries_more_tests = len(countries_more_tests[countries_more_tests['total_tests'] > (countries_more_tests[countries_more_tests['location'] == 'United Kingdom'].total_tests.sum().astype(int))])\n",
    "countries_more_tests"
   ]
  },
  {
   "cell_type": "markdown",
   "metadata": {},
   "source": [
    "**Q7. Create a DataFrame called `beds_dr` which is based on the `countries` DataFrame, but contains only the columns `hospital_beds_per_thousand` and `total_deaths_per_million`.**\n",
    "\n",
    "Your answer should only  include rows where there are values present in both of these columns. *You may find the `.dropna()` method useful.*"
   ]
  },
  {
   "cell_type": "code",
   "execution_count": 10,
   "metadata": {},
   "outputs": [],
   "source": [
    "col = ['hospital_beds_per_thousand', 'total_deaths_per_million']"
   ]
  },
  {
   "cell_type": "code",
   "execution_count": 11,
   "metadata": {},
   "outputs": [
    {
     "data": {
      "text/html": [
       "<div>\n",
       "<style scoped>\n",
       "    .dataframe tbody tr th:only-of-type {\n",
       "        vertical-align: middle;\n",
       "    }\n",
       "\n",
       "    .dataframe tbody tr th {\n",
       "        vertical-align: top;\n",
       "    }\n",
       "\n",
       "    .dataframe thead th {\n",
       "        text-align: right;\n",
       "    }\n",
       "</style>\n",
       "<table border=\"1\" class=\"dataframe\">\n",
       "  <thead>\n",
       "    <tr style=\"text-align: right;\">\n",
       "      <th></th>\n",
       "      <th>total_deaths_per_million</th>\n",
       "      <th>hospital_beds_per_thousand</th>\n",
       "    </tr>\n",
       "  </thead>\n",
       "  <tbody>\n",
       "    <tr>\n",
       "      <th>173</th>\n",
       "      <td>19.163</td>\n",
       "      <td>0.50</td>\n",
       "    </tr>\n",
       "    <tr>\n",
       "      <th>300</th>\n",
       "      <td>21.544</td>\n",
       "      <td>2.89</td>\n",
       "    </tr>\n",
       "    <tr>\n",
       "      <th>491</th>\n",
       "      <td>20.798</td>\n",
       "      <td>1.90</td>\n",
       "    </tr>\n",
       "    <tr>\n",
       "      <th>952</th>\n",
       "      <td>30.635</td>\n",
       "      <td>3.80</td>\n",
       "    </tr>\n",
       "    <tr>\n",
       "      <th>1081</th>\n",
       "      <td>28.919</td>\n",
       "      <td>5.00</td>\n",
       "    </tr>\n",
       "    <tr>\n",
       "      <th>...</th>\n",
       "      <td>...</td>\n",
       "      <td>...</td>\n",
       "    </tr>\n",
       "    <tr>\n",
       "      <th>29136</th>\n",
       "      <td>1.794</td>\n",
       "      <td>0.80</td>\n",
       "    </tr>\n",
       "    <tr>\n",
       "      <th>29332</th>\n",
       "      <td>0.000</td>\n",
       "      <td>2.60</td>\n",
       "    </tr>\n",
       "    <tr>\n",
       "      <th>29506</th>\n",
       "      <td>10.461</td>\n",
       "      <td>0.70</td>\n",
       "    </tr>\n",
       "    <tr>\n",
       "      <th>29623</th>\n",
       "      <td>1.305</td>\n",
       "      <td>2.00</td>\n",
       "    </tr>\n",
       "    <tr>\n",
       "      <th>29738</th>\n",
       "      <td>0.471</td>\n",
       "      <td>1.70</td>\n",
       "    </tr>\n",
       "  </tbody>\n",
       "</table>\n",
       "<p>164 rows × 2 columns</p>\n",
       "</div>"
      ],
      "text/plain": [
       "       total_deaths_per_million  hospital_beds_per_thousand\n",
       "173                      19.163                        0.50\n",
       "300                      21.544                        2.89\n",
       "491                      20.798                        1.90\n",
       "952                      30.635                        3.80\n",
       "1081                     28.919                        5.00\n",
       "...                         ...                         ...\n",
       "29136                     1.794                        0.80\n",
       "29332                     0.000                        2.60\n",
       "29506                    10.461                        0.70\n",
       "29623                     1.305                        2.00\n",
       "29738                     0.471                        1.70\n",
       "\n",
       "[164 rows x 2 columns]"
      ]
     },
     "execution_count": 11,
     "metadata": {},
     "output_type": "execute_result"
    }
   ],
   "source": [
    "beds_dr = countries.copy()\n",
    "beds_dr = beds_dr.drop(beds_dr.columns.difference(col), axis=1).dropna()\n",
    "beds_dr"
   ]
  },
  {
   "cell_type": "markdown",
   "metadata": {},
   "source": [
    "**Q8. What is the average `total_deaths_per_million` for entries in `beds_dr` where `hospital_beds_per_thousand` is greater than the mean?**\n",
    "\n",
    "Assign the answer to `dr_high_bed_ratio`."
   ]
  },
  {
   "cell_type": "code",
   "execution_count": 12,
   "metadata": {},
   "outputs": [
    {
     "data": {
      "text/plain": [
       "98.18423728813558"
      ]
     },
     "execution_count": 12,
     "metadata": {},
     "output_type": "execute_result"
    }
   ],
   "source": [
    "dr_high_bed_ratio = beds_dr[beds_dr['hospital_beds_per_thousand'] > (beds_dr.hospital_beds_per_thousand.mean())].total_deaths_per_million.mean()\n",
    "dr_high_bed_ratio"
   ]
  },
  {
   "cell_type": "code",
   "execution_count": 13,
   "metadata": {},
   "outputs": [
    {
     "data": {
      "text/plain": [
       "98.18423728813558"
      ]
     },
     "execution_count": 13,
     "metadata": {},
     "output_type": "execute_result"
    }
   ],
   "source": [
    "beds_dr[beds_dr['hospital_beds_per_thousand'] > (beds_dr.hospital_beds_per_thousand.mean())].total_deaths_per_million.mean()\n"
   ]
  },
  {
   "cell_type": "markdown",
   "metadata": {},
   "source": [
    "**Q9. What is the average `total_deaths_per_million` for entries in `beds_dr` where `hospital_beds_per_thousand` is less than the mean?**\n",
    "\n",
    "Assign the answer to `dr_low_bed_ratio`."
   ]
  },
  {
   "cell_type": "code",
   "execution_count": 14,
   "metadata": {},
   "outputs": [
    {
     "data": {
      "text/plain": [
       "56.29405714285714"
      ]
     },
     "execution_count": 14,
     "metadata": {},
     "output_type": "execute_result"
    }
   ],
   "source": [
    "dr_low_bed_ratio = beds_dr[beds_dr['hospital_beds_per_thousand'] < (beds_dr.hospital_beds_per_thousand.mean())].total_deaths_per_million.mean()\n",
    "dr_low_bed_ratio\n"
   ]
  },
  {
   "cell_type": "markdown",
   "metadata": {},
   "source": [
    "**Q10. Create a DataFrame called `no_new_cases` which contains only rows from `countries` with zero `new_cases`.**"
   ]
  },
  {
   "cell_type": "code",
   "execution_count": 15,
   "metadata": {},
   "outputs": [
    {
     "data": {
      "text/html": [
       "<div>\n",
       "<style scoped>\n",
       "    .dataframe tbody tr th:only-of-type {\n",
       "        vertical-align: middle;\n",
       "    }\n",
       "\n",
       "    .dataframe tbody tr th {\n",
       "        vertical-align: top;\n",
       "    }\n",
       "\n",
       "    .dataframe thead th {\n",
       "        text-align: right;\n",
       "    }\n",
       "</style>\n",
       "<table border=\"1\" class=\"dataframe\">\n",
       "  <thead>\n",
       "    <tr style=\"text-align: right;\">\n",
       "      <th></th>\n",
       "      <th>iso_code</th>\n",
       "      <th>continent</th>\n",
       "      <th>location</th>\n",
       "      <th>date</th>\n",
       "      <th>total_cases</th>\n",
       "      <th>new_cases</th>\n",
       "      <th>total_deaths</th>\n",
       "      <th>new_deaths</th>\n",
       "      <th>total_cases_per_million</th>\n",
       "      <th>new_cases_per_million</th>\n",
       "      <th>...</th>\n",
       "      <th>aged_70_older</th>\n",
       "      <th>gdp_per_capita</th>\n",
       "      <th>extreme_poverty</th>\n",
       "      <th>cvd_death_rate</th>\n",
       "      <th>diabetes_prevalence</th>\n",
       "      <th>female_smokers</th>\n",
       "      <th>male_smokers</th>\n",
       "      <th>handwashing_facilities</th>\n",
       "      <th>hospital_beds_per_thousand</th>\n",
       "      <th>life_expectancy</th>\n",
       "    </tr>\n",
       "  </thead>\n",
       "  <tbody>\n",
       "    <tr>\n",
       "      <th>613</th>\n",
       "      <td>AND</td>\n",
       "      <td>Europe</td>\n",
       "      <td>Andorra</td>\n",
       "      <td>2020-07-01</td>\n",
       "      <td>855.0</td>\n",
       "      <td>0.0</td>\n",
       "      <td>52.0</td>\n",
       "      <td>0.0</td>\n",
       "      <td>11065.812</td>\n",
       "      <td>0.0</td>\n",
       "      <td>...</td>\n",
       "      <td>NaN</td>\n",
       "      <td>NaN</td>\n",
       "      <td>NaN</td>\n",
       "      <td>109.135</td>\n",
       "      <td>7.97</td>\n",
       "      <td>29.0</td>\n",
       "      <td>37.8</td>\n",
       "      <td>NaN</td>\n",
       "      <td>NaN</td>\n",
       "      <td>83.73</td>\n",
       "    </tr>\n",
       "    <tr>\n",
       "      <th>836</th>\n",
       "      <td>AIA</td>\n",
       "      <td>North America</td>\n",
       "      <td>Anguilla</td>\n",
       "      <td>2020-07-01</td>\n",
       "      <td>3.0</td>\n",
       "      <td>0.0</td>\n",
       "      <td>0.0</td>\n",
       "      <td>0.0</td>\n",
       "      <td>199.973</td>\n",
       "      <td>0.0</td>\n",
       "      <td>...</td>\n",
       "      <td>NaN</td>\n",
       "      <td>NaN</td>\n",
       "      <td>NaN</td>\n",
       "      <td>NaN</td>\n",
       "      <td>NaN</td>\n",
       "      <td>NaN</td>\n",
       "      <td>NaN</td>\n",
       "      <td>NaN</td>\n",
       "      <td>NaN</td>\n",
       "      <td>81.88</td>\n",
       "    </tr>\n",
       "    <tr>\n",
       "      <th>952</th>\n",
       "      <td>ATG</td>\n",
       "      <td>North America</td>\n",
       "      <td>Antigua and Barbuda</td>\n",
       "      <td>2020-07-01</td>\n",
       "      <td>66.0</td>\n",
       "      <td>0.0</td>\n",
       "      <td>3.0</td>\n",
       "      <td>0.0</td>\n",
       "      <td>673.965</td>\n",
       "      <td>0.0</td>\n",
       "      <td>...</td>\n",
       "      <td>4.631</td>\n",
       "      <td>21490.943</td>\n",
       "      <td>NaN</td>\n",
       "      <td>191.511</td>\n",
       "      <td>13.17</td>\n",
       "      <td>NaN</td>\n",
       "      <td>NaN</td>\n",
       "      <td>NaN</td>\n",
       "      <td>3.8</td>\n",
       "      <td>77.02</td>\n",
       "    </tr>\n",
       "    <tr>\n",
       "      <th>1381</th>\n",
       "      <td>ABW</td>\n",
       "      <td>North America</td>\n",
       "      <td>Aruba</td>\n",
       "      <td>2020-07-01</td>\n",
       "      <td>103.0</td>\n",
       "      <td>0.0</td>\n",
       "      <td>3.0</td>\n",
       "      <td>0.0</td>\n",
       "      <td>964.727</td>\n",
       "      <td>0.0</td>\n",
       "      <td>...</td>\n",
       "      <td>7.452</td>\n",
       "      <td>35973.781</td>\n",
       "      <td>NaN</td>\n",
       "      <td>NaN</td>\n",
       "      <td>11.62</td>\n",
       "      <td>NaN</td>\n",
       "      <td>NaN</td>\n",
       "      <td>NaN</td>\n",
       "      <td>NaN</td>\n",
       "      <td>76.29</td>\n",
       "    </tr>\n",
       "    <tr>\n",
       "      <th>2080</th>\n",
       "      <td>BHS</td>\n",
       "      <td>North America</td>\n",
       "      <td>Bahamas</td>\n",
       "      <td>2020-07-01</td>\n",
       "      <td>104.0</td>\n",
       "      <td>0.0</td>\n",
       "      <td>11.0</td>\n",
       "      <td>0.0</td>\n",
       "      <td>264.464</td>\n",
       "      <td>0.0</td>\n",
       "      <td>...</td>\n",
       "      <td>5.200</td>\n",
       "      <td>27717.847</td>\n",
       "      <td>NaN</td>\n",
       "      <td>235.954</td>\n",
       "      <td>13.17</td>\n",
       "      <td>3.1</td>\n",
       "      <td>20.4</td>\n",
       "      <td>NaN</td>\n",
       "      <td>2.9</td>\n",
       "      <td>73.92</td>\n",
       "    </tr>\n",
       "    <tr>\n",
       "      <th>...</th>\n",
       "      <td>...</td>\n",
       "      <td>...</td>\n",
       "      <td>...</td>\n",
       "      <td>...</td>\n",
       "      <td>...</td>\n",
       "      <td>...</td>\n",
       "      <td>...</td>\n",
       "      <td>...</td>\n",
       "      <td>...</td>\n",
       "      <td>...</td>\n",
       "      <td>...</td>\n",
       "      <td>...</td>\n",
       "      <td>...</td>\n",
       "      <td>...</td>\n",
       "      <td>...</td>\n",
       "      <td>...</td>\n",
       "      <td>...</td>\n",
       "      <td>...</td>\n",
       "      <td>...</td>\n",
       "      <td>...</td>\n",
       "      <td>...</td>\n",
       "    </tr>\n",
       "    <tr>\n",
       "      <th>27103</th>\n",
       "      <td>TLS</td>\n",
       "      <td>Asia</td>\n",
       "      <td>Timor</td>\n",
       "      <td>2020-07-01</td>\n",
       "      <td>24.0</td>\n",
       "      <td>0.0</td>\n",
       "      <td>0.0</td>\n",
       "      <td>0.0</td>\n",
       "      <td>18.203</td>\n",
       "      <td>0.0</td>\n",
       "      <td>...</td>\n",
       "      <td>1.897</td>\n",
       "      <td>6570.102</td>\n",
       "      <td>30.3</td>\n",
       "      <td>335.346</td>\n",
       "      <td>6.86</td>\n",
       "      <td>6.3</td>\n",
       "      <td>78.1</td>\n",
       "      <td>28.178</td>\n",
       "      <td>5.9</td>\n",
       "      <td>69.50</td>\n",
       "    </tr>\n",
       "    <tr>\n",
       "      <th>27725</th>\n",
       "      <td>TCA</td>\n",
       "      <td>North America</td>\n",
       "      <td>Turks and Caicos Islands</td>\n",
       "      <td>2020-07-01</td>\n",
       "      <td>41.0</td>\n",
       "      <td>0.0</td>\n",
       "      <td>2.0</td>\n",
       "      <td>1.0</td>\n",
       "      <td>1058.939</td>\n",
       "      <td>0.0</td>\n",
       "      <td>...</td>\n",
       "      <td>NaN</td>\n",
       "      <td>NaN</td>\n",
       "      <td>NaN</td>\n",
       "      <td>NaN</td>\n",
       "      <td>NaN</td>\n",
       "      <td>NaN</td>\n",
       "      <td>NaN</td>\n",
       "      <td>NaN</td>\n",
       "      <td>NaN</td>\n",
       "      <td>80.22</td>\n",
       "    </tr>\n",
       "    <tr>\n",
       "      <th>28654</th>\n",
       "      <td>VIR</td>\n",
       "      <td>North America</td>\n",
       "      <td>United States Virgin Islands</td>\n",
       "      <td>2020-07-01</td>\n",
       "      <td>84.0</td>\n",
       "      <td>0.0</td>\n",
       "      <td>6.0</td>\n",
       "      <td>0.0</td>\n",
       "      <td>804.420</td>\n",
       "      <td>0.0</td>\n",
       "      <td>...</td>\n",
       "      <td>10.799</td>\n",
       "      <td>NaN</td>\n",
       "      <td>NaN</td>\n",
       "      <td>273.670</td>\n",
       "      <td>12.26</td>\n",
       "      <td>NaN</td>\n",
       "      <td>NaN</td>\n",
       "      <td>NaN</td>\n",
       "      <td>NaN</td>\n",
       "      <td>80.58</td>\n",
       "    </tr>\n",
       "    <tr>\n",
       "      <th>29016</th>\n",
       "      <td>VAT</td>\n",
       "      <td>Europe</td>\n",
       "      <td>Vatican</td>\n",
       "      <td>2020-07-01</td>\n",
       "      <td>12.0</td>\n",
       "      <td>0.0</td>\n",
       "      <td>0.0</td>\n",
       "      <td>0.0</td>\n",
       "      <td>14833.127</td>\n",
       "      <td>0.0</td>\n",
       "      <td>...</td>\n",
       "      <td>NaN</td>\n",
       "      <td>NaN</td>\n",
       "      <td>NaN</td>\n",
       "      <td>NaN</td>\n",
       "      <td>NaN</td>\n",
       "      <td>NaN</td>\n",
       "      <td>NaN</td>\n",
       "      <td>NaN</td>\n",
       "      <td>NaN</td>\n",
       "      <td>75.12</td>\n",
       "    </tr>\n",
       "    <tr>\n",
       "      <th>29332</th>\n",
       "      <td>VNM</td>\n",
       "      <td>Asia</td>\n",
       "      <td>Vietnam</td>\n",
       "      <td>2020-07-01</td>\n",
       "      <td>355.0</td>\n",
       "      <td>0.0</td>\n",
       "      <td>0.0</td>\n",
       "      <td>0.0</td>\n",
       "      <td>3.647</td>\n",
       "      <td>0.0</td>\n",
       "      <td>...</td>\n",
       "      <td>4.718</td>\n",
       "      <td>6171.884</td>\n",
       "      <td>2.0</td>\n",
       "      <td>245.465</td>\n",
       "      <td>6.00</td>\n",
       "      <td>1.0</td>\n",
       "      <td>45.9</td>\n",
       "      <td>85.847</td>\n",
       "      <td>2.6</td>\n",
       "      <td>75.40</td>\n",
       "    </tr>\n",
       "  </tbody>\n",
       "</table>\n",
       "<p>62 rows × 34 columns</p>\n",
       "</div>"
      ],
      "text/plain": [
       "      iso_code      continent                      location       date  \\\n",
       "613        AND         Europe                       Andorra 2020-07-01   \n",
       "836        AIA  North America                      Anguilla 2020-07-01   \n",
       "952        ATG  North America           Antigua and Barbuda 2020-07-01   \n",
       "1381       ABW  North America                         Aruba 2020-07-01   \n",
       "2080       BHS  North America                       Bahamas 2020-07-01   \n",
       "...        ...            ...                           ...        ...   \n",
       "27103      TLS           Asia                         Timor 2020-07-01   \n",
       "27725      TCA  North America      Turks and Caicos Islands 2020-07-01   \n",
       "28654      VIR  North America  United States Virgin Islands 2020-07-01   \n",
       "29016      VAT         Europe                       Vatican 2020-07-01   \n",
       "29332      VNM           Asia                       Vietnam 2020-07-01   \n",
       "\n",
       "       total_cases  new_cases  total_deaths  new_deaths  \\\n",
       "613          855.0        0.0          52.0         0.0   \n",
       "836            3.0        0.0           0.0         0.0   \n",
       "952           66.0        0.0           3.0         0.0   \n",
       "1381         103.0        0.0           3.0         0.0   \n",
       "2080         104.0        0.0          11.0         0.0   \n",
       "...            ...        ...           ...         ...   \n",
       "27103         24.0        0.0           0.0         0.0   \n",
       "27725         41.0        0.0           2.0         1.0   \n",
       "28654         84.0        0.0           6.0         0.0   \n",
       "29016         12.0        0.0           0.0         0.0   \n",
       "29332        355.0        0.0           0.0         0.0   \n",
       "\n",
       "       total_cases_per_million  new_cases_per_million  ...  aged_70_older  \\\n",
       "613                  11065.812                    0.0  ...            NaN   \n",
       "836                    199.973                    0.0  ...            NaN   \n",
       "952                    673.965                    0.0  ...          4.631   \n",
       "1381                   964.727                    0.0  ...          7.452   \n",
       "2080                   264.464                    0.0  ...          5.200   \n",
       "...                        ...                    ...  ...            ...   \n",
       "27103                   18.203                    0.0  ...          1.897   \n",
       "27725                 1058.939                    0.0  ...            NaN   \n",
       "28654                  804.420                    0.0  ...         10.799   \n",
       "29016                14833.127                    0.0  ...            NaN   \n",
       "29332                    3.647                    0.0  ...          4.718   \n",
       "\n",
       "       gdp_per_capita  extreme_poverty  cvd_death_rate  diabetes_prevalence  \\\n",
       "613               NaN              NaN         109.135                 7.97   \n",
       "836               NaN              NaN             NaN                  NaN   \n",
       "952         21490.943              NaN         191.511                13.17   \n",
       "1381        35973.781              NaN             NaN                11.62   \n",
       "2080        27717.847              NaN         235.954                13.17   \n",
       "...               ...              ...             ...                  ...   \n",
       "27103        6570.102             30.3         335.346                 6.86   \n",
       "27725             NaN              NaN             NaN                  NaN   \n",
       "28654             NaN              NaN         273.670                12.26   \n",
       "29016             NaN              NaN             NaN                  NaN   \n",
       "29332        6171.884              2.0         245.465                 6.00   \n",
       "\n",
       "       female_smokers  male_smokers  handwashing_facilities  \\\n",
       "613              29.0          37.8                     NaN   \n",
       "836               NaN           NaN                     NaN   \n",
       "952               NaN           NaN                     NaN   \n",
       "1381              NaN           NaN                     NaN   \n",
       "2080              3.1          20.4                     NaN   \n",
       "...               ...           ...                     ...   \n",
       "27103             6.3          78.1                  28.178   \n",
       "27725             NaN           NaN                     NaN   \n",
       "28654             NaN           NaN                     NaN   \n",
       "29016             NaN           NaN                     NaN   \n",
       "29332             1.0          45.9                  85.847   \n",
       "\n",
       "      hospital_beds_per_thousand  life_expectancy  \n",
       "613                          NaN            83.73  \n",
       "836                          NaN            81.88  \n",
       "952                          3.8            77.02  \n",
       "1381                         NaN            76.29  \n",
       "2080                         2.9            73.92  \n",
       "...                          ...              ...  \n",
       "27103                        5.9            69.50  \n",
       "27725                        NaN            80.22  \n",
       "28654                        NaN            80.58  \n",
       "29016                        NaN            75.12  \n",
       "29332                        2.6            75.40  \n",
       "\n",
       "[62 rows x 34 columns]"
      ]
     },
     "execution_count": 15,
     "metadata": {},
     "output_type": "execute_result"
    }
   ],
   "source": [
    "no_new_cases = countries[countries['new_cases'] == 0 ]\n",
    "no_new_cases"
   ]
  },
  {
   "cell_type": "markdown",
   "metadata": {},
   "source": [
    "**Q11. Which country in `no_new_cases` has had the highest number of `total_cases`? Assign your answer to `highest_no_new`.**"
   ]
  },
  {
   "cell_type": "code",
   "execution_count": 16,
   "metadata": {},
   "outputs": [],
   "source": [
    "highest_no_new = str(no_new_cases[no_new_cases['total_cases'] == (no_new_cases.total_cases.max())].location.values).replace(\"[\",\"\").replace(\"]\",\"\").replace(\"'\",\"\")\n"
   ]
  },
  {
   "cell_type": "code",
   "execution_count": 17,
   "metadata": {},
   "outputs": [
    {
     "data": {
      "text/plain": [
       "'Cameroon'"
      ]
     },
     "execution_count": 17,
     "metadata": {},
     "output_type": "execute_result"
    }
   ],
   "source": [
    "highest_no_new"
   ]
  },
  {
   "cell_type": "markdown",
   "metadata": {},
   "source": [
    "**Q12. What is the sum of the `population` of all countries which have had zero `total_deaths`?**\n",
    "\n",
    "Assign your answer to `sum_populations_no_deaths`. Your answer should be in millions, rounded to the nearest whole number, and converted to an integer."
   ]
  },
  {
   "cell_type": "code",
   "execution_count": 18,
   "metadata": {},
   "outputs": [
    {
     "data": {
      "text/plain": [
       "7757980095"
      ]
     },
     "execution_count": 18,
     "metadata": {},
     "output_type": "execute_result"
    }
   ],
   "source": [
    "sum_populations_no_deaths = countries.population.sum().astype(int)\n",
    "sum_populations_no_deaths"
   ]
  },
  {
   "cell_type": "markdown",
   "metadata": {},
   "source": [
    "**Q13. Create a function called `country_metric` which accepts the following three parameters:**\n",
    "\n",
    "- a DataFrame (which can be assumed to be of a similar format to `countries`)\n",
    "- a location (i.e. a string  which will be found in the `location` column of the DataFrame)\n",
    "- a metric (i.e. a string which will be found in any column  (other than `location`)  in the DataFrame)\n",
    "\n",
    "The function should return only the value from the first row for a given `location` and  `metric`. *You may find  `.iloc[]`  useful.*"
   ]
  },
  {
   "cell_type": "code",
   "execution_count": 19,
   "metadata": {},
   "outputs": [],
   "source": [
    "def country_metric(data, place, metric):\n",
    "    for item in data:\n",
    "        item = float(data[data['location'] == place][metric].values)           \n",
    "        return item"
   ]
  },
  {
   "cell_type": "markdown",
   "metadata": {},
   "source": [
    "**Q.14 Use your function to collect the value for `Vietnam` for the metric `aged_70_older`, assigning the result to `vietnam_older_70`.**"
   ]
  },
  {
   "cell_type": "code",
   "execution_count": 20,
   "metadata": {},
   "outputs": [
    {
     "data": {
      "text/plain": [
       "4.718"
      ]
     },
     "execution_count": 20,
     "metadata": {},
     "output_type": "execute_result"
    }
   ],
   "source": [
    "vietnam_older_70 = country_metric(countries, 'Vietnam', 'aged_70_older')\n",
    "vietnam_older_70"
   ]
  },
  {
   "cell_type": "markdown",
   "metadata": {},
   "source": [
    "**Q.15 Create another function called `countries_average`, which accepts the following three parameters:**\n",
    "\n",
    "- a DataFrame (which can be assumed to be such as `countries`)\n",
    "- a list of countries (which can be assumed to all be found in the `location` column of the DataFrame)\n",
    "- a string (which can be assumed to be a column (other than `location`) which will be found in the DataFrame) \n",
    "\n",
    "The function should return the average value for the given metric for the given list of countries."
   ]
  },
  {
   "cell_type": "code",
   "execution_count": 26,
   "metadata": {},
   "outputs": [],
   "source": [
    "def countries_average(data, places, col_name):\n",
    "    new_data = data[(data.location.isin(places))]\n",
    "    col = new_data[col_name]\n",
    "    ave = col.mean()\n",
    "    return ave"
   ]
  },
  {
   "cell_type": "code",
   "execution_count": 27,
   "metadata": {},
   "outputs": [],
   "source": [
    "g7 = ['United States', 'Italy', 'Canada', 'Japan', 'United Kingdom', 'Germany', 'France']"
   ]
  },
  {
   "cell_type": "markdown",
   "metadata": {},
   "source": [
    "**Q16. Use your `countries_average` function to find out the average `life_expectancy` of countries in the `g7` list defined above. Assign the result to the variable `g7_avg_life_expectancy`.**"
   ]
  },
  {
   "cell_type": "code",
   "execution_count": 28,
   "metadata": {},
   "outputs": [
    {
     "data": {
      "text/plain": [
       "82.10571428571428"
      ]
     },
     "execution_count": 28,
     "metadata": {},
     "output_type": "execute_result"
    }
   ],
   "source": [
    "g7_avg_life_expectancy = countries_average(countries, g7, 'life_expectancy')\n",
    "g7_avg_life_expectancy"
   ]
  },
  {
   "cell_type": "markdown",
   "metadata": {},
   "source": [
    "**Q.17 Find the country with lowest value for `life_expectancy` in the `countries` DataFrame, and create a string which is formatted as follows:**\n",
    "\n",
    "'{country} has a life expectancy of {diff} years lower than the G7 average.'\n",
    "    \n",
    "Assign your string to the variable `headline` and ensure it is formatted exactly as above, with:\n",
    "\n",
    "- {country} being replaced by the value in the `location` column of the DataFrame\n",
    "- {diff} being replaced by a float **rounded to one decimal place**, of the value from the `life_expectancy` column subtracted from `g7_avg_life_expectancy` \n",
    "- Please note that {diff} should be a positive value"
   ]
  },
  {
   "cell_type": "code",
   "execution_count": 32,
   "metadata": {},
   "outputs": [
    {
     "name": "stdout",
     "output_type": "stream",
     "text": [
      "['Central African Republic'] has a life expectancy of 10 years lower than the G7 average.\n"
     ]
    }
   ],
   "source": [
    "country = countries[countries['life_expectancy'] == (countries.life_expectancy.min())].location.tolist()\n",
    "print(f'{country} has a life expectancy of 10 years lower than the G7 average.')"
   ]
  },
  {
   "cell_type": "code",
   "execution_count": 33,
   "metadata": {},
   "outputs": [
    {
     "name": "stdout",
     "output_type": "stream",
     "text": [
      "['Central African Republic'] has a life expectancy of 10 years lower than the G7 average.\n"
     ]
    }
   ],
   "source": [
    "headline = print(f'{country} has a life expectancy of 10 years lower than the G7 average.')"
   ]
  }
 ],
 "metadata": {
  "kernel_info": {
   "name": "python3"
  },
  "kernelspec": {
   "display_name": "Python 3 (ipykernel)",
   "language": "python",
   "name": "python3"
  },
  "language_info": {
   "codemirror_mode": {
    "name": "ipython",
    "version": 3
   },
   "file_extension": ".py",
   "mimetype": "text/x-python",
   "name": "python",
   "nbconvert_exporter": "python",
   "pygments_lexer": "ipython3",
   "version": "3.9.7"
  },
  "nteract": {
   "version": "0.15.0"
  }
 },
 "nbformat": 4,
 "nbformat_minor": 4
}
